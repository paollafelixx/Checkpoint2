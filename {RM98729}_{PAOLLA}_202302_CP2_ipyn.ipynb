{
  "nbformat": 4,
  "nbformat_minor": 0,
  "metadata": {
    "colab": {
      "provenance": [],
      "mount_file_id": "1arlx8Xlz3pEyEWCS5gARIZLC6UylxoVg",
      "authorship_tag": "ABX9TyMVVcJcBPNr8el7CURQcDJV",
      "include_colab_link": true
    },
    "kernelspec": {
      "name": "python3",
      "display_name": "Python 3"
    },
    "language_info": {
      "name": "python"
    }
  },
  "cells": [
    {
      "cell_type": "markdown",
      "metadata": {
        "id": "view-in-github",
        "colab_type": "text"
      },
      "source": [
        "<a href=\"https://colab.research.google.com/github/paollafelixx/Checkpoint2/blob/main/%7BRM98729%7D_%7BPAOLLA%7D_202302_CP2_ipyn.ipynb\" target=\"_parent\"><img src=\"https://colab.research.google.com/assets/colab-badge.svg\" alt=\"Open In Colab\"/></a>"
      ]
    },
    {
      "cell_type": "code",
      "execution_count": null,
      "metadata": {
        "id": "_NvY8RwbFKn0"
      },
      "outputs": [],
      "source": [
        "import numpy as np"
      ]
    },
    {
      "cell_type": "code",
      "source": [
        "import pandas as pd\n",
        "import matplotlib.pyplot as plt\n",
        "import numpy as np\n",
        "import seaborn as sns\n",
        "import plotly.graph_objects as go\n",
        "import plotly.offline as pyo\n",
        "import plotly.io as pio"
      ],
      "metadata": {
        "id": "0tAuVunDGdiL"
      },
      "execution_count": null,
      "outputs": []
    },
    {
      "cell_type": "code",
      "source": [
        "from google.colab import drive"
      ],
      "metadata": {
        "id": "u5bkicVzJe42"
      },
      "execution_count": null,
      "outputs": []
    },
    {
      "cell_type": "code",
      "source": [
        "Medicine_Details = pd.read_csv(r'/content/drive/MyDrive/CP2_IA/archive (2)/Medicine_Details.csv')\n",
        "Medicine_Details.head()"
      ],
      "metadata": {
        "colab": {
          "base_uri": "https://localhost:8080/",
          "height": 484
        },
        "id": "e2ps_bAuMgai",
        "outputId": "6d0d48a5-e51a-48c6-90fa-378f75ed886f"
      },
      "execution_count": null,
      "outputs": [
        {
          "output_type": "execute_result",
          "data": {
            "text/plain": [
              "              Medicine Name  \\\n",
              "0   Avastin 400mg Injection   \n",
              "1  Augmentin 625 Duo Tablet   \n",
              "2       Azithral 500 Tablet   \n",
              "3          Ascoril LS Syrup   \n",
              "4         Aciloc 150 Tablet   \n",
              "\n",
              "                                         Composition  \\\n",
              "0                                Bevacizumab (400mg)   \n",
              "1    Amoxycillin  (500mg) +  Clavulanic Acid (125mg)   \n",
              "2                               Azithromycin (500mg)   \n",
              "3  Ambroxol (30mg/5ml) + Levosalbutamol (1mg/5ml)...   \n",
              "4                                 Ranitidine (150mg)   \n",
              "\n",
              "                                                Uses  \\\n",
              "0   Cancer of colon and rectum Non-small cell lun...   \n",
              "1                  Treatment of Bacterial infections   \n",
              "2                  Treatment of Bacterial infections   \n",
              "3                      Treatment of Cough with mucus   \n",
              "4  Treatment of Gastroesophageal reflux disease (...   \n",
              "\n",
              "                                        Side_effects  \\\n",
              "0  Rectal bleeding Taste change Headache Noseblee...   \n",
              "1  Vomiting Nausea Diarrhea Mucocutaneous candidi...   \n",
              "2                     Nausea Abdominal pain Diarrhea   \n",
              "3  Nausea Vomiting Diarrhea Upset stomach Stomach...   \n",
              "4     Headache Diarrhea Gastrointestinal disturbance   \n",
              "\n",
              "                                           Image URL  \\\n",
              "0  https://onemg.gumlet.io/l_watermark_346,w_480,...   \n",
              "1  https://onemg.gumlet.io/l_watermark_346,w_480,...   \n",
              "2  https://onemg.gumlet.io/l_watermark_346,w_480,...   \n",
              "3  https://onemg.gumlet.io/l_watermark_346,w_480,...   \n",
              "4  https://onemg.gumlet.io/l_watermark_346,w_480,...   \n",
              "\n",
              "                           Manufacturer  Excellent Review %  Average Review %  \\\n",
              "0          Roche Products India Pvt Ltd                  22                56   \n",
              "1  Glaxo SmithKline Pharmaceuticals Ltd                  47                35   \n",
              "2           Alembic Pharmaceuticals Ltd                  39                40   \n",
              "3          Glenmark Pharmaceuticals Ltd                  24                41   \n",
              "4            Cadila Pharmaceuticals Ltd                  34                37   \n",
              "\n",
              "   Poor Review %  \n",
              "0             22  \n",
              "1             18  \n",
              "2             21  \n",
              "3             35  \n",
              "4             29  "
            ],
            "text/html": [
              "\n",
              "  <div id=\"df-5d05fe79-85cd-422d-a29a-a7001d664018\" class=\"colab-df-container\">\n",
              "    <div>\n",
              "<style scoped>\n",
              "    .dataframe tbody tr th:only-of-type {\n",
              "        vertical-align: middle;\n",
              "    }\n",
              "\n",
              "    .dataframe tbody tr th {\n",
              "        vertical-align: top;\n",
              "    }\n",
              "\n",
              "    .dataframe thead th {\n",
              "        text-align: right;\n",
              "    }\n",
              "</style>\n",
              "<table border=\"1\" class=\"dataframe\">\n",
              "  <thead>\n",
              "    <tr style=\"text-align: right;\">\n",
              "      <th></th>\n",
              "      <th>Medicine Name</th>\n",
              "      <th>Composition</th>\n",
              "      <th>Uses</th>\n",
              "      <th>Side_effects</th>\n",
              "      <th>Image URL</th>\n",
              "      <th>Manufacturer</th>\n",
              "      <th>Excellent Review %</th>\n",
              "      <th>Average Review %</th>\n",
              "      <th>Poor Review %</th>\n",
              "    </tr>\n",
              "  </thead>\n",
              "  <tbody>\n",
              "    <tr>\n",
              "      <th>0</th>\n",
              "      <td>Avastin 400mg Injection</td>\n",
              "      <td>Bevacizumab (400mg)</td>\n",
              "      <td>Cancer of colon and rectum Non-small cell lun...</td>\n",
              "      <td>Rectal bleeding Taste change Headache Noseblee...</td>\n",
              "      <td>https://onemg.gumlet.io/l_watermark_346,w_480,...</td>\n",
              "      <td>Roche Products India Pvt Ltd</td>\n",
              "      <td>22</td>\n",
              "      <td>56</td>\n",
              "      <td>22</td>\n",
              "    </tr>\n",
              "    <tr>\n",
              "      <th>1</th>\n",
              "      <td>Augmentin 625 Duo Tablet</td>\n",
              "      <td>Amoxycillin  (500mg) +  Clavulanic Acid (125mg)</td>\n",
              "      <td>Treatment of Bacterial infections</td>\n",
              "      <td>Vomiting Nausea Diarrhea Mucocutaneous candidi...</td>\n",
              "      <td>https://onemg.gumlet.io/l_watermark_346,w_480,...</td>\n",
              "      <td>Glaxo SmithKline Pharmaceuticals Ltd</td>\n",
              "      <td>47</td>\n",
              "      <td>35</td>\n",
              "      <td>18</td>\n",
              "    </tr>\n",
              "    <tr>\n",
              "      <th>2</th>\n",
              "      <td>Azithral 500 Tablet</td>\n",
              "      <td>Azithromycin (500mg)</td>\n",
              "      <td>Treatment of Bacterial infections</td>\n",
              "      <td>Nausea Abdominal pain Diarrhea</td>\n",
              "      <td>https://onemg.gumlet.io/l_watermark_346,w_480,...</td>\n",
              "      <td>Alembic Pharmaceuticals Ltd</td>\n",
              "      <td>39</td>\n",
              "      <td>40</td>\n",
              "      <td>21</td>\n",
              "    </tr>\n",
              "    <tr>\n",
              "      <th>3</th>\n",
              "      <td>Ascoril LS Syrup</td>\n",
              "      <td>Ambroxol (30mg/5ml) + Levosalbutamol (1mg/5ml)...</td>\n",
              "      <td>Treatment of Cough with mucus</td>\n",
              "      <td>Nausea Vomiting Diarrhea Upset stomach Stomach...</td>\n",
              "      <td>https://onemg.gumlet.io/l_watermark_346,w_480,...</td>\n",
              "      <td>Glenmark Pharmaceuticals Ltd</td>\n",
              "      <td>24</td>\n",
              "      <td>41</td>\n",
              "      <td>35</td>\n",
              "    </tr>\n",
              "    <tr>\n",
              "      <th>4</th>\n",
              "      <td>Aciloc 150 Tablet</td>\n",
              "      <td>Ranitidine (150mg)</td>\n",
              "      <td>Treatment of Gastroesophageal reflux disease (...</td>\n",
              "      <td>Headache Diarrhea Gastrointestinal disturbance</td>\n",
              "      <td>https://onemg.gumlet.io/l_watermark_346,w_480,...</td>\n",
              "      <td>Cadila Pharmaceuticals Ltd</td>\n",
              "      <td>34</td>\n",
              "      <td>37</td>\n",
              "      <td>29</td>\n",
              "    </tr>\n",
              "  </tbody>\n",
              "</table>\n",
              "</div>\n",
              "    <div class=\"colab-df-buttons\">\n",
              "\n",
              "  <div class=\"colab-df-container\">\n",
              "    <button class=\"colab-df-convert\" onclick=\"convertToInteractive('df-5d05fe79-85cd-422d-a29a-a7001d664018')\"\n",
              "            title=\"Convert this dataframe to an interactive table.\"\n",
              "            style=\"display:none;\">\n",
              "\n",
              "  <svg xmlns=\"http://www.w3.org/2000/svg\" height=\"24px\" viewBox=\"0 -960 960 960\">\n",
              "    <path d=\"M120-120v-720h720v720H120Zm60-500h600v-160H180v160Zm220 220h160v-160H400v160Zm0 220h160v-160H400v160ZM180-400h160v-160H180v160Zm440 0h160v-160H620v160ZM180-180h160v-160H180v160Zm440 0h160v-160H620v160Z\"/>\n",
              "  </svg>\n",
              "    </button>\n",
              "\n",
              "  <style>\n",
              "    .colab-df-container {\n",
              "      display:flex;\n",
              "      gap: 12px;\n",
              "    }\n",
              "\n",
              "    .colab-df-convert {\n",
              "      background-color: #E8F0FE;\n",
              "      border: none;\n",
              "      border-radius: 50%;\n",
              "      cursor: pointer;\n",
              "      display: none;\n",
              "      fill: #1967D2;\n",
              "      height: 32px;\n",
              "      padding: 0 0 0 0;\n",
              "      width: 32px;\n",
              "    }\n",
              "\n",
              "    .colab-df-convert:hover {\n",
              "      background-color: #E2EBFA;\n",
              "      box-shadow: 0px 1px 2px rgba(60, 64, 67, 0.3), 0px 1px 3px 1px rgba(60, 64, 67, 0.15);\n",
              "      fill: #174EA6;\n",
              "    }\n",
              "\n",
              "    .colab-df-buttons div {\n",
              "      margin-bottom: 4px;\n",
              "    }\n",
              "\n",
              "    [theme=dark] .colab-df-convert {\n",
              "      background-color: #3B4455;\n",
              "      fill: #D2E3FC;\n",
              "    }\n",
              "\n",
              "    [theme=dark] .colab-df-convert:hover {\n",
              "      background-color: #434B5C;\n",
              "      box-shadow: 0px 1px 3px 1px rgba(0, 0, 0, 0.15);\n",
              "      filter: drop-shadow(0px 1px 2px rgba(0, 0, 0, 0.3));\n",
              "      fill: #FFFFFF;\n",
              "    }\n",
              "  </style>\n",
              "\n",
              "    <script>\n",
              "      const buttonEl =\n",
              "        document.querySelector('#df-5d05fe79-85cd-422d-a29a-a7001d664018 button.colab-df-convert');\n",
              "      buttonEl.style.display =\n",
              "        google.colab.kernel.accessAllowed ? 'block' : 'none';\n",
              "\n",
              "      async function convertToInteractive(key) {\n",
              "        const element = document.querySelector('#df-5d05fe79-85cd-422d-a29a-a7001d664018');\n",
              "        const dataTable =\n",
              "          await google.colab.kernel.invokeFunction('convertToInteractive',\n",
              "                                                    [key], {});\n",
              "        if (!dataTable) return;\n",
              "\n",
              "        const docLinkHtml = 'Like what you see? Visit the ' +\n",
              "          '<a target=\"_blank\" href=https://colab.research.google.com/notebooks/data_table.ipynb>data table notebook</a>'\n",
              "          + ' to learn more about interactive tables.';\n",
              "        element.innerHTML = '';\n",
              "        dataTable['output_type'] = 'display_data';\n",
              "        await google.colab.output.renderOutput(dataTable, element);\n",
              "        const docLink = document.createElement('div');\n",
              "        docLink.innerHTML = docLinkHtml;\n",
              "        element.appendChild(docLink);\n",
              "      }\n",
              "    </script>\n",
              "  </div>\n",
              "\n",
              "\n",
              "<div id=\"df-3198da9b-c264-4c43-a786-6909c9e4bcac\">\n",
              "  <button class=\"colab-df-quickchart\" onclick=\"quickchart('df-3198da9b-c264-4c43-a786-6909c9e4bcac')\"\n",
              "            title=\"Suggest charts.\"\n",
              "            style=\"display:none;\">\n",
              "\n",
              "<svg xmlns=\"http://www.w3.org/2000/svg\" height=\"24px\"viewBox=\"0 0 24 24\"\n",
              "     width=\"24px\">\n",
              "    <g>\n",
              "        <path d=\"M19 3H5c-1.1 0-2 .9-2 2v14c0 1.1.9 2 2 2h14c1.1 0 2-.9 2-2V5c0-1.1-.9-2-2-2zM9 17H7v-7h2v7zm4 0h-2V7h2v10zm4 0h-2v-4h2v4z\"/>\n",
              "    </g>\n",
              "</svg>\n",
              "  </button>\n",
              "\n",
              "<style>\n",
              "  .colab-df-quickchart {\n",
              "      --bg-color: #E8F0FE;\n",
              "      --fill-color: #1967D2;\n",
              "      --hover-bg-color: #E2EBFA;\n",
              "      --hover-fill-color: #174EA6;\n",
              "      --disabled-fill-color: #AAA;\n",
              "      --disabled-bg-color: #DDD;\n",
              "  }\n",
              "\n",
              "  [theme=dark] .colab-df-quickchart {\n",
              "      --bg-color: #3B4455;\n",
              "      --fill-color: #D2E3FC;\n",
              "      --hover-bg-color: #434B5C;\n",
              "      --hover-fill-color: #FFFFFF;\n",
              "      --disabled-bg-color: #3B4455;\n",
              "      --disabled-fill-color: #666;\n",
              "  }\n",
              "\n",
              "  .colab-df-quickchart {\n",
              "    background-color: var(--bg-color);\n",
              "    border: none;\n",
              "    border-radius: 50%;\n",
              "    cursor: pointer;\n",
              "    display: none;\n",
              "    fill: var(--fill-color);\n",
              "    height: 32px;\n",
              "    padding: 0;\n",
              "    width: 32px;\n",
              "  }\n",
              "\n",
              "  .colab-df-quickchart:hover {\n",
              "    background-color: var(--hover-bg-color);\n",
              "    box-shadow: 0 1px 2px rgba(60, 64, 67, 0.3), 0 1px 3px 1px rgba(60, 64, 67, 0.15);\n",
              "    fill: var(--button-hover-fill-color);\n",
              "  }\n",
              "\n",
              "  .colab-df-quickchart-complete:disabled,\n",
              "  .colab-df-quickchart-complete:disabled:hover {\n",
              "    background-color: var(--disabled-bg-color);\n",
              "    fill: var(--disabled-fill-color);\n",
              "    box-shadow: none;\n",
              "  }\n",
              "\n",
              "  .colab-df-spinner {\n",
              "    border: 2px solid var(--fill-color);\n",
              "    border-color: transparent;\n",
              "    border-bottom-color: var(--fill-color);\n",
              "    animation:\n",
              "      spin 1s steps(1) infinite;\n",
              "  }\n",
              "\n",
              "  @keyframes spin {\n",
              "    0% {\n",
              "      border-color: transparent;\n",
              "      border-bottom-color: var(--fill-color);\n",
              "      border-left-color: var(--fill-color);\n",
              "    }\n",
              "    20% {\n",
              "      border-color: transparent;\n",
              "      border-left-color: var(--fill-color);\n",
              "      border-top-color: var(--fill-color);\n",
              "    }\n",
              "    30% {\n",
              "      border-color: transparent;\n",
              "      border-left-color: var(--fill-color);\n",
              "      border-top-color: var(--fill-color);\n",
              "      border-right-color: var(--fill-color);\n",
              "    }\n",
              "    40% {\n",
              "      border-color: transparent;\n",
              "      border-right-color: var(--fill-color);\n",
              "      border-top-color: var(--fill-color);\n",
              "    }\n",
              "    60% {\n",
              "      border-color: transparent;\n",
              "      border-right-color: var(--fill-color);\n",
              "    }\n",
              "    80% {\n",
              "      border-color: transparent;\n",
              "      border-right-color: var(--fill-color);\n",
              "      border-bottom-color: var(--fill-color);\n",
              "    }\n",
              "    90% {\n",
              "      border-color: transparent;\n",
              "      border-bottom-color: var(--fill-color);\n",
              "    }\n",
              "  }\n",
              "</style>\n",
              "\n",
              "  <script>\n",
              "    async function quickchart(key) {\n",
              "      const quickchartButtonEl =\n",
              "        document.querySelector('#' + key + ' button');\n",
              "      quickchartButtonEl.disabled = true;  // To prevent multiple clicks.\n",
              "      quickchartButtonEl.classList.add('colab-df-spinner');\n",
              "      try {\n",
              "        const charts = await google.colab.kernel.invokeFunction(\n",
              "            'suggestCharts', [key], {});\n",
              "      } catch (error) {\n",
              "        console.error('Error during call to suggestCharts:', error);\n",
              "      }\n",
              "      quickchartButtonEl.classList.remove('colab-df-spinner');\n",
              "      quickchartButtonEl.classList.add('colab-df-quickchart-complete');\n",
              "    }\n",
              "    (() => {\n",
              "      let quickchartButtonEl =\n",
              "        document.querySelector('#df-3198da9b-c264-4c43-a786-6909c9e4bcac button');\n",
              "      quickchartButtonEl.style.display =\n",
              "        google.colab.kernel.accessAllowed ? 'block' : 'none';\n",
              "    })();\n",
              "  </script>\n",
              "</div>\n",
              "    </div>\n",
              "  </div>\n"
            ]
          },
          "metadata": {},
          "execution_count": 70
        }
      ]
    },
    {
      "cell_type": "code",
      "source": [
        "origem_dados = \"Os dados foram obtidos na [Kaggle] - [https://www.kaggle.com/datasets/singhnavjot2062001/11000-medicine-details] em 22 de outubro de 2023.\"\n",
        "medicine_datails = \"O conjunto de dados é chamado de Medicine Details Dataset\"\n",
        "tamanho = \"10 MB\"\n",
        "quantidade_de_registros = \"11,000 registros\"\n",
        "linhas_x_Colunas = \"11,000 linhas x 10 colunas\""
      ],
      "metadata": {
        "id": "Cj4wB1MiYIOG"
      },
      "execution_count": null,
      "outputs": []
    },
    {
      "cell_type": "code",
      "source": [
        "objetivo = \"Analisar o conjunto de dados que inclui os nomes de mais de 11.000 medicamentos, tornando-o uma coleção abrangente de produtos farmacêuticos, comparando seus dados de distribuição e usuarios e suas avaliações.\""
      ],
      "metadata": {
        "id": "PssSskRvQnOD"
      },
      "execution_count": null,
      "outputs": []
    },
    {
      "cell_type": "code",
      "source": [
        "# Verificar dados faltantes\n",
        "dados_faltantes = df.isnull().sum()"
      ],
      "metadata": {
        "id": "iscrtYZzYZoa"
      },
      "execution_count": null,
      "outputs": []
    },
    {
      "cell_type": "code",
      "source": [
        "# Exibir a quantidade de dados faltantes em cada coluna\n",
        "print(\"Dados Faltantes:\")\n",
        "print(dados_faltantes)"
      ],
      "metadata": {
        "colab": {
          "base_uri": "https://localhost:8080/"
        },
        "id": "D60cVGOxYduI",
        "outputId": "c6095f58-4593-4375-fd42-70cd4b04c395"
      },
      "execution_count": null,
      "outputs": [
        {
          "output_type": "stream",
          "name": "stdout",
          "text": [
            "Dados Faltantes:\n",
            "Medicine Name                                     0\n",
            "Uses                                              0\n",
            "Side_effects                                      0\n",
            "Image URL                                         0\n",
            "Manufacturer                                      0\n",
            "                                                 ..\n",
            "Composition_Zonisamide (100mg)                    0\n",
            "Composition_Zonisamide (25mg)                     0\n",
            "Composition_Zonisamide (50mg)                     0\n",
            "Composition_n-Butyl-2-cyanoacrylate (0.5ml)       0\n",
            "Composition_silver nano particles (0.002% w/w)    0\n",
            "Length: 3446, dtype: int64\n"
          ]
        }
      ]
    },
    {
      "cell_type": "code",
      "source": [
        "# Calculando a matriz de correlação\n",
        "correlation_matrix = Medicine_Details.corr()"
      ],
      "metadata": {
        "colab": {
          "base_uri": "https://localhost:8080/"
        },
        "id": "2MJS6lkEt6me",
        "outputId": "1b48d558-efa7-4db7-fdb4-6bcca450030e"
      },
      "execution_count": null,
      "outputs": [
        {
          "output_type": "stream",
          "name": "stderr",
          "text": [
            "<ipython-input-71-4138993f2944>:2: FutureWarning:\n",
            "\n",
            "The default value of numeric_only in DataFrame.corr is deprecated. In a future version, it will default to False. Select only valid columns or specify the value of numeric_only to silence this warning.\n",
            "\n"
          ]
        }
      ]
    },
    {
      "cell_type": "code",
      "source": [
        "# Plotar a matriz de correlação usando um mapa de calor\n",
        "plt.figure(figsize=(10, 8))\n",
        "sns.heatmap(correlation_matrix, annot=True, cmap='coolwarm', fmt=\".2f\")\n",
        "plt.title(\"Matriz de Correlação\")\n",
        "plt.show()"
      ],
      "metadata": {
        "colab": {
          "base_uri": "https://localhost:8080/",
          "height": 699
        },
        "id": "1WfLjJUhuE3p",
        "outputId": "03f58088-a0c0-4aef-aeb3-4bdae6054033"
      },
      "execution_count": null,
      "outputs": [
        {
          "output_type": "display_data",
          "data": {
            "text/plain": [
              "<Figure size 1000x800 with 2 Axes>"
            ],
            "image/png": "[encoded data removed]"
          },
          "metadata": {}
        }
      ]
    },
    {
      "cell_type": "code",
      "source": [
        "from sklearn.model_selection import train_test_split\n",
        "from sklearn.linear_model import LogisticRegression\n",
        "from sklearn.metrics import classification_report\n",
        "from sklearn.tree import DecisionTreeClassifier\n",
        "from sklearn.ensemble import RandomForestClassifier\n",
        "from sklearn.svm import SVC\n",
        "from sklearn.metrics import classification_report, confusion_matrix"
      ],
      "metadata": {
        "id": "w0CkFVRsuTtz"
      },
      "execution_count": null,
      "outputs": []
    },
    {
      "cell_type": "code",
      "source": [
        "X = pd.get_dummies(X, columns=['Composition'])"
      ],
      "metadata": {
        "id": "R8jSrYjMwQ2S"
      },
      "execution_count": null,
      "outputs": []
    },
    {
      "cell_type": "code",
      "source": [
        "X = Medicine_Details.drop('Excellent Review %', axis=1)\n",
        "y = Medicine_Details['Excellent Review %']\n",
        "X_train, X_test, y_train, y_test = train_test_split(X, y, test_size=0.2, random_state=42)"
      ],
      "metadata": {
        "id": "5zYKDer_uXO_"
      },
      "execution_count": null,
      "outputs": []
    },
    {
      "cell_type": "code",
      "source": [
        "# Definir as variáveis de entrada (X) e a variável alvo (y)\n",
        "X = Medicine_Details[['Excellent Review %', 'Poor Review %']]\n",
        "y = Medicine_Details['Average Review %']"
      ],
      "metadata": {
        "id": "5-AqFp9ix9t7"
      },
      "execution_count": null,
      "outputs": []
    },
    {
      "cell_type": "code",
      "source": [
        "X_train, X_test, y_train, y_test = train_test_split(X, y, test_size=0.2, random_state=42)"
      ],
      "metadata": {
        "id": "wyXPlqX6yaTn"
      },
      "execution_count": null,
      "outputs": []
    },
    {
      "cell_type": "code",
      "source": [
        "model_logistic = LogisticRegression()\n",
        "model_logistic.fit(X_train, y_train)"
      ],
      "metadata": {
        "colab": {
          "base_uri": "https://localhost:8080/",
          "height": 248
        },
        "id": "48caMR7zyuez",
        "outputId": "4d76ce0f-b88f-4585-ef9b-7fb1e2b640a2"
      },
      "execution_count": null,
      "outputs": [
        {
          "output_type": "stream",
          "name": "stderr",
          "text": [
            "/usr/local/lib/python3.10/dist-packages/sklearn/linear_model/_logistic.py:458: ConvergenceWarning:\n",
            "\n",
            "lbfgs failed to converge (status=1):\n",
            "STOP: TOTAL NO. of ITERATIONS REACHED LIMIT.\n",
            "\n",
            "Increase the number of iterations (max_iter) or scale the data as shown in:\n",
            "    https://scikit-learn.org/stable/modules/preprocessing.html\n",
            "Please also refer to the documentation for alternative solver options:\n",
            "    https://scikit-learn.org/stable/modules/linear_model.html#logistic-regression\n",
            "\n"
          ]
        },
        {
          "output_type": "execute_result",
          "data": {
            "text/plain": [
              "LogisticRegression()"
            ],
            "text/html": [
              "<style>#sk-container-id-1 {color: black;background-color: white;}#sk-container-id-1 pre{padding: 0;}#sk-container-id-1 div.sk-toggleable {background-color: white;}#sk-container-id-1 label.sk-toggleable__label {cursor: pointer;display: block;width: 100%;margin-bottom: 0;padding: 0.3em;box-sizing: border-box;text-align: center;}#sk-container-id-1 label.sk-toggleable__label-arrow:before {content: \"▸\";float: left;margin-right: 0.25em;color: #696969;}#sk-container-id-1 label.sk-toggleable__label-arrow:hover:before {color: black;}#sk-container-id-1 div.sk-estimator:hover label.sk-toggleable__label-arrow:before {color: black;}#sk-container-id-1 div.sk-toggleable__content {max-height: 0;max-width: 0;overflow: hidden;text-align: left;background-color: #f0f8ff;}#sk-container-id-1 div.sk-toggleable__content pre {margin: 0.2em;color: black;border-radius: 0.25em;background-color: #f0f8ff;}#sk-container-id-1 input.sk-toggleable__control:checked~div.sk-toggleable__content {max-height: 200px;max-width: 100%;overflow: auto;}#sk-container-id-1 input.sk-toggleable__control:checked~label.sk-toggleable__label-arrow:before {content: \"▾\";}#sk-container-id-1 div.sk-estimator input.sk-toggleable__control:checked~label.sk-toggleable__label {background-color: #d4ebff;}#sk-container-id-1 div.sk-label input.sk-toggleable__control:checked~label.sk-toggleable__label {background-color: #d4ebff;}#sk-container-id-1 input.sk-hidden--visually {border: 0;clip: rect(1px 1px 1px 1px);clip: rect(1px, 1px, 1px, 1px);height: 1px;margin: -1px;overflow: hidden;padding: 0;position: absolute;width: 1px;}#sk-container-id-1 div.sk-estimator {font-family: monospace;background-color: #f0f8ff;border: 1px dotted black;border-radius: 0.25em;box-sizing: border-box;margin-bottom: 0.5em;}#sk-container-id-1 div.sk-estimator:hover {background-color: #d4ebff;}#sk-container-id-1 div.sk-parallel-item::after {content: \"\";width: 100%;border-bottom: 1px solid gray;flex-grow: 1;}#sk-container-id-1 div.sk-label:hover label.sk-toggleable__label {background-color: #d4ebff;}#sk-container-id-1 div.sk-serial::before {content: \"\";position: absolute;border-left: 1px solid gray;box-sizing: border-box;top: 0;bottom: 0;left: 50%;z-index: 0;}#sk-container-id-1 div.sk-serial {display: flex;flex-direction: column;align-items: center;background-color: white;padding-right: 0.2em;padding-left: 0.2em;position: relative;}#sk-container-id-1 div.sk-item {position: relative;z-index: 1;}#sk-container-id-1 div.sk-parallel {display: flex;align-items: stretch;justify-content: center;background-color: white;position: relative;}#sk-container-id-1 div.sk-item::before, #sk-container-id-1 div.sk-parallel-item::before {content: \"\";position: absolute;border-left: 1px solid gray;box-sizing: border-box;top: 0;bottom: 0;left: 50%;z-index: -1;}#sk-container-id-1 div.sk-parallel-item {display: flex;flex-direction: column;z-index: 1;position: relative;background-color: white;}#sk-container-id-1 div.sk-parallel-item:first-child::after {align-self: flex-end;width: 50%;}#sk-container-id-1 div.sk-parallel-item:last-child::after {align-self: flex-start;width: 50%;}#sk-container-id-1 div.sk-parallel-item:only-child::after {width: 0;}#sk-container-id-1 div.sk-dashed-wrapped {border: 1px dashed gray;margin: 0 0.4em 0.5em 0.4em;box-sizing: border-box;padding-bottom: 0.4em;background-color: white;}#sk-container-id-1 div.sk-label label {font-family: monospace;font-weight: bold;display: inline-block;line-height: 1.2em;}#sk-container-id-1 div.sk-label-container {text-align: center;}#sk-container-id-1 div.sk-container {/* jupyter's `normalize.less` sets `[hidden] { display: none; }` but bootstrap.min.css set `[hidden] { display: none !important; }` so we also need the `!important` here to be able to override the default hidden behavior on the sphinx rendered scikit-learn.org. See: https://github.com/scikit-learn/scikit-learn/issues/21755 */display: inline-block !important;position: relative;}#sk-container-id-1 div.sk-text-repr-fallback {display: none;}</style><div id=\"sk-container-id-1\" class=\"sk-top-container\"><div class=\"sk-text-repr-fallback\"><pre>LogisticRegression()</pre><b>In a Jupyter environment, please rerun this cell to show the HTML representation or trust the notebook. <br />On GitHub, the HTML representation is unable to render, please try loading this page with nbviewer.org.</b></div><div class=\"sk-container\" hidden><div class=\"sk-item\"><div class=\"sk-estimator sk-toggleable\"><input class=\"sk-toggleable__control sk-hidden--visually\" id=\"sk-estimator-id-1\" type=\"checkbox\" checked><label for=\"sk-estimator-id-1\" class=\"sk-toggleable__label sk-toggleable__label-arrow\">LogisticRegression</label><div class=\"sk-toggleable__content\"><pre>LogisticRegression()</pre></div></div></div></div></div>"
            ]
          },
          "metadata": {},
          "execution_count": 117
        }
      ]
    },
    {
      "cell_type": "code",
      "source": [
        "model_decision_tree = DecisionTreeClassifier()\n",
        "model_decision_tree.fit(X_train, y_train)"
      ],
      "metadata": {
        "colab": {
          "base_uri": "https://localhost:8080/",
          "height": 75
        },
        "id": "gjmcZm-8y9lC",
        "outputId": "9d5d5bf3-c448-4e1f-dd57-1d3355a9de5e"
      },
      "execution_count": null,
      "outputs": [
        {
          "output_type": "execute_result",
          "data": {
            "text/plain": [
              "DecisionTreeClassifier()"
            ],
            "text/html": [
              "<style>#sk-container-id-2 {color: black;background-color: white;}#sk-container-id-2 pre{padding: 0;}#sk-container-id-2 div.sk-toggleable {background-color: white;}#sk-container-id-2 label.sk-toggleable__label {cursor: pointer;display: block;width: 100%;margin-bottom: 0;padding: 0.3em;box-sizing: border-box;text-align: center;}#sk-container-id-2 label.sk-toggleable__label-arrow:before {content: \"▸\";float: left;margin-right: 0.25em;color: #696969;}#sk-container-id-2 label.sk-toggleable__label-arrow:hover:before {color: black;}#sk-container-id-2 div.sk-estimator:hover label.sk-toggleable__label-arrow:before {color: black;}#sk-container-id-2 div.sk-toggleable__content {max-height: 0;max-width: 0;overflow: hidden;text-align: left;background-color: #f0f8ff;}#sk-container-id-2 div.sk-toggleable__content pre {margin: 0.2em;color: black;border-radius: 0.25em;background-color: #f0f8ff;}#sk-container-id-2 input.sk-toggleable__control:checked~div.sk-toggleable__content {max-height: 200px;max-width: 100%;overflow: auto;}#sk-container-id-2 input.sk-toggleable__control:checked~label.sk-toggleable__label-arrow:before {content: \"▾\";}#sk-container-id-2 div.sk-estimator input.sk-toggleable__control:checked~label.sk-toggleable__label {background-color: #d4ebff;}#sk-container-id-2 div.sk-label input.sk-toggleable__control:checked~label.sk-toggleable__label {background-color: #d4ebff;}#sk-container-id-2 input.sk-hidden--visually {border: 0;clip: rect(1px 1px 1px 1px);clip: rect(1px, 1px, 1px, 1px);height: 1px;margin: -1px;overflow: hidden;padding: 0;position: absolute;width: 1px;}#sk-container-id-2 div.sk-estimator {font-family: monospace;background-color: #f0f8ff;border: 1px dotted black;border-radius: 0.25em;box-sizing: border-box;margin-bottom: 0.5em;}#sk-container-id-2 div.sk-estimator:hover {background-color: #d4ebff;}#sk-container-id-2 div.sk-parallel-item::after {content: \"\";width: 100%;border-bottom: 1px solid gray;flex-grow: 1;}#sk-container-id-2 div.sk-label:hover label.sk-toggleable__label {background-color: #d4ebff;}#sk-container-id-2 div.sk-serial::before {content: \"\";position: absolute;border-left: 1px solid gray;box-sizing: border-box;top: 0;bottom: 0;left: 50%;z-index: 0;}#sk-container-id-2 div.sk-serial {display: flex;flex-direction: column;align-items: center;background-color: white;padding-right: 0.2em;padding-left: 0.2em;position: relative;}#sk-container-id-2 div.sk-item {position: relative;z-index: 1;}#sk-container-id-2 div.sk-parallel {display: flex;align-items: stretch;justify-content: center;background-color: white;position: relative;}#sk-container-id-2 div.sk-item::before, #sk-container-id-2 div.sk-parallel-item::before {content: \"\";position: absolute;border-left: 1px solid gray;box-sizing: border-box;top: 0;bottom: 0;left: 50%;z-index: -1;}#sk-container-id-2 div.sk-parallel-item {display: flex;flex-direction: column;z-index: 1;position: relative;background-color: white;}#sk-container-id-2 div.sk-parallel-item:first-child::after {align-self: flex-end;width: 50%;}#sk-container-id-2 div.sk-parallel-item:last-child::after {align-self: flex-start;width: 50%;}#sk-container-id-2 div.sk-parallel-item:only-child::after {width: 0;}#sk-container-id-2 div.sk-dashed-wrapped {border: 1px dashed gray;margin: 0 0.4em 0.5em 0.4em;box-sizing: border-box;padding-bottom: 0.4em;background-color: white;}#sk-container-id-2 div.sk-label label {font-family: monospace;font-weight: bold;display: inline-block;line-height: 1.2em;}#sk-container-id-2 div.sk-label-container {text-align: center;}#sk-container-id-2 div.sk-container {/* jupyter's `normalize.less` sets `[hidden] { display: none; }` but bootstrap.min.css set `[hidden] { display: none !important; }` so we also need the `!important` here to be able to override the default hidden behavior on the sphinx rendered scikit-learn.org. See: https://github.com/scikit-learn/scikit-learn/issues/21755 */display: inline-block !important;position: relative;}#sk-container-id-2 div.sk-text-repr-fallback {display: none;}</style><div id=\"sk-container-id-2\" class=\"sk-top-container\"><div class=\"sk-text-repr-fallback\"><pre>DecisionTreeClassifier()</pre><b>In a Jupyter environment, please rerun this cell to show the HTML representation or trust the notebook. <br />On GitHub, the HTML representation is unable to render, please try loading this page with nbviewer.org.</b></div><div class=\"sk-container\" hidden><div class=\"sk-item\"><div class=\"sk-estimator sk-toggleable\"><input class=\"sk-toggleable__control sk-hidden--visually\" id=\"sk-estimator-id-2\" type=\"checkbox\" checked><label for=\"sk-estimator-id-2\" class=\"sk-toggleable__label sk-toggleable__label-arrow\">DecisionTreeClassifier</label><div class=\"sk-toggleable__content\"><pre>DecisionTreeClassifier()</pre></div></div></div></div></div>"
            ]
          },
          "metadata": {},
          "execution_count": 119
        }
      ]
    },
    {
      "cell_type": "code",
      "source": [
        "model_random_forest = RandomForestClassifier()\n",
        "model_random_forest.fit(X_train, y_train)"
      ],
      "metadata": {
        "colab": {
          "base_uri": "https://localhost:8080/",
          "height": 75
        },
        "id": "QT046pwHzKlu",
        "outputId": "6c4df40e-f068-4734-d986-ae4cd26badaa"
      },
      "execution_count": null,
      "outputs": [
        {
          "output_type": "execute_result",
          "data": {
            "text/plain": [
              "RandomForestClassifier()"
            ],
            "text/html": [
              "<style>#sk-container-id-3 {color: black;background-color: white;}#sk-container-id-3 pre{padding: 0;}#sk-container-id-3 div.sk-toggleable {background-color: white;}#sk-container-id-3 label.sk-toggleable__label {cursor: pointer;display: block;width: 100%;margin-bottom: 0;padding: 0.3em;box-sizing: border-box;text-align: center;}#sk-container-id-3 label.sk-toggleable__label-arrow:before {content: \"▸\";float: left;margin-right: 0.25em;color: #696969;}#sk-container-id-3 label.sk-toggleable__label-arrow:hover:before {color: black;}#sk-container-id-3 div.sk-estimator:hover label.sk-toggleable__label-arrow:before {color: black;}#sk-container-id-3 div.sk-toggleable__content {max-height: 0;max-width: 0;overflow: hidden;text-align: left;background-color: #f0f8ff;}#sk-container-id-3 div.sk-toggleable__content pre {margin: 0.2em;color: black;border-radius: 0.25em;background-color: #f0f8ff;}#sk-container-id-3 input.sk-toggleable__control:checked~div.sk-toggleable__content {max-height: 200px;max-width: 100%;overflow: auto;}#sk-container-id-3 input.sk-toggleable__control:checked~label.sk-toggleable__label-arrow:before {content: \"▾\";}#sk-container-id-3 div.sk-estimator input.sk-toggleable__control:checked~label.sk-toggleable__label {background-color: #d4ebff;}#sk-container-id-3 div.sk-label input.sk-toggleable__control:checked~label.sk-toggleable__label {background-color: #d4ebff;}#sk-container-id-3 input.sk-hidden--visually {border: 0;clip: rect(1px 1px 1px 1px);clip: rect(1px, 1px, 1px, 1px);height: 1px;margin: -1px;overflow: hidden;padding: 0;position: absolute;width: 1px;}#sk-container-id-3 div.sk-estimator {font-family: monospace;background-color: #f0f8ff;border: 1px dotted black;border-radius: 0.25em;box-sizing: border-box;margin-bottom: 0.5em;}#sk-container-id-3 div.sk-estimator:hover {background-color: #d4ebff;}#sk-container-id-3 div.sk-parallel-item::after {content: \"\";width: 100%;border-bottom: 1px solid gray;flex-grow: 1;}#sk-container-id-3 div.sk-label:hover label.sk-toggleable__label {background-color: #d4ebff;}#sk-container-id-3 div.sk-serial::before {content: \"\";position: absolute;border-left: 1px solid gray;box-sizing: border-box;top: 0;bottom: 0;left: 50%;z-index: 0;}#sk-container-id-3 div.sk-serial {display: flex;flex-direction: column;align-items: center;background-color: white;padding-right: 0.2em;padding-left: 0.2em;position: relative;}#sk-container-id-3 div.sk-item {position: relative;z-index: 1;}#sk-container-id-3 div.sk-parallel {display: flex;align-items: stretch;justify-content: center;background-color: white;position: relative;}#sk-container-id-3 div.sk-item::before, #sk-container-id-3 div.sk-parallel-item::before {content: \"\";position: absolute;border-left: 1px solid gray;box-sizing: border-box;top: 0;bottom: 0;left: 50%;z-index: -1;}#sk-container-id-3 div.sk-parallel-item {display: flex;flex-direction: column;z-index: 1;position: relative;background-color: white;}#sk-container-id-3 div.sk-parallel-item:first-child::after {align-self: flex-end;width: 50%;}#sk-container-id-3 div.sk-parallel-item:last-child::after {align-self: flex-start;width: 50%;}#sk-container-id-3 div.sk-parallel-item:only-child::after {width: 0;}#sk-container-id-3 div.sk-dashed-wrapped {border: 1px dashed gray;margin: 0 0.4em 0.5em 0.4em;box-sizing: border-box;padding-bottom: 0.4em;background-color: white;}#sk-container-id-3 div.sk-label label {font-family: monospace;font-weight: bold;display: inline-block;line-height: 1.2em;}#sk-container-id-3 div.sk-label-container {text-align: center;}#sk-container-id-3 div.sk-container {/* jupyter's `normalize.less` sets `[hidden] { display: none; }` but bootstrap.min.css set `[hidden] { display: none !important; }` so we also need the `!important` here to be able to override the default hidden behavior on the sphinx rendered scikit-learn.org. See: https://github.com/scikit-learn/scikit-learn/issues/21755 */display: inline-block !important;position: relative;}#sk-container-id-3 div.sk-text-repr-fallback {display: none;}</style><div id=\"sk-container-id-3\" class=\"sk-top-container\"><div class=\"sk-text-repr-fallback\"><pre>RandomForestClassifier()</pre><b>In a Jupyter environment, please rerun this cell to show the HTML representation or trust the notebook. <br />On GitHub, the HTML representation is unable to render, please try loading this page with nbviewer.org.</b></div><div class=\"sk-container\" hidden><div class=\"sk-item\"><div class=\"sk-estimator sk-toggleable\"><input class=\"sk-toggleable__control sk-hidden--visually\" id=\"sk-estimator-id-3\" type=\"checkbox\" checked><label for=\"sk-estimator-id-3\" class=\"sk-toggleable__label sk-toggleable__label-arrow\">RandomForestClassifier</label><div class=\"sk-toggleable__content\"><pre>RandomForestClassifier()</pre></div></div></div></div></div>"
            ]
          },
          "metadata": {},
          "execution_count": 121
        }
      ]
    },
    {
      "cell_type": "code",
      "source": [
        "model_svm = SVC()\n",
        "model_svm.fit(X_train, y_train)"
      ],
      "metadata": {
        "colab": {
          "base_uri": "https://localhost:8080/",
          "height": 75
        },
        "id": "We3700QHzU-q",
        "outputId": "e2c5bbcf-d5b6-4a28-f293-b4e169325623"
      },
      "execution_count": null,
      "outputs": [
        {
          "output_type": "execute_result",
          "data": {
            "text/plain": [
              "SVC()"
            ],
            "text/html": [
              "<style>#sk-container-id-4 {color: black;background-color: white;}#sk-container-id-4 pre{padding: 0;}#sk-container-id-4 div.sk-toggleable {background-color: white;}#sk-container-id-4 label.sk-toggleable__label {cursor: pointer;display: block;width: 100%;margin-bottom: 0;padding: 0.3em;box-sizing: border-box;text-align: center;}#sk-container-id-4 label.sk-toggleable__label-arrow:before {content: \"▸\";float: left;margin-right: 0.25em;color: #696969;}#sk-container-id-4 label.sk-toggleable__label-arrow:hover:before {color: black;}#sk-container-id-4 div.sk-estimator:hover label.sk-toggleable__label-arrow:before {color: black;}#sk-container-id-4 div.sk-toggleable__content {max-height: 0;max-width: 0;overflow: hidden;text-align: left;background-color: #f0f8ff;}#sk-container-id-4 div.sk-toggleable__content pre {margin: 0.2em;color: black;border-radius: 0.25em;background-color: #f0f8ff;}#sk-container-id-4 input.sk-toggleable__control:checked~div.sk-toggleable__content {max-height: 200px;max-width: 100%;overflow: auto;}#sk-container-id-4 input.sk-toggleable__control:checked~label.sk-toggleable__label-arrow:before {content: \"▾\";}#sk-container-id-4 div.sk-estimator input.sk-toggleable__control:checked~label.sk-toggleable__label {background-color: #d4ebff;}#sk-container-id-4 div.sk-label input.sk-toggleable__control:checked~label.sk-toggleable__label {background-color: #d4ebff;}#sk-container-id-4 input.sk-hidden--visually {border: 0;clip: rect(1px 1px 1px 1px);clip: rect(1px, 1px, 1px, 1px);height: 1px;margin: -1px;overflow: hidden;padding: 0;position: absolute;width: 1px;}#sk-container-id-4 div.sk-estimator {font-family: monospace;background-color: #f0f8ff;border: 1px dotted black;border-radius: 0.25em;box-sizing: border-box;margin-bottom: 0.5em;}#sk-container-id-4 div.sk-estimator:hover {background-color: #d4ebff;}#sk-container-id-4 div.sk-parallel-item::after {content: \"\";width: 100%;border-bottom: 1px solid gray;flex-grow: 1;}#sk-container-id-4 div.sk-label:hover label.sk-toggleable__label {background-color: #d4ebff;}#sk-container-id-4 div.sk-serial::before {content: \"\";position: absolute;border-left: 1px solid gray;box-sizing: border-box;top: 0;bottom: 0;left: 50%;z-index: 0;}#sk-container-id-4 div.sk-serial {display: flex;flex-direction: column;align-items: center;background-color: white;padding-right: 0.2em;padding-left: 0.2em;position: relative;}#sk-container-id-4 div.sk-item {position: relative;z-index: 1;}#sk-container-id-4 div.sk-parallel {display: flex;align-items: stretch;justify-content: center;background-color: white;position: relative;}#sk-container-id-4 div.sk-item::before, #sk-container-id-4 div.sk-parallel-item::before {content: \"\";position: absolute;border-left: 1px solid gray;box-sizing: border-box;top: 0;bottom: 0;left: 50%;z-index: -1;}#sk-container-id-4 div.sk-parallel-item {display: flex;flex-direction: column;z-index: 1;position: relative;background-color: white;}#sk-container-id-4 div.sk-parallel-item:first-child::after {align-self: flex-end;width: 50%;}#sk-container-id-4 div.sk-parallel-item:last-child::after {align-self: flex-start;width: 50%;}#sk-container-id-4 div.sk-parallel-item:only-child::after {width: 0;}#sk-container-id-4 div.sk-dashed-wrapped {border: 1px dashed gray;margin: 0 0.4em 0.5em 0.4em;box-sizing: border-box;padding-bottom: 0.4em;background-color: white;}#sk-container-id-4 div.sk-label label {font-family: monospace;font-weight: bold;display: inline-block;line-height: 1.2em;}#sk-container-id-4 div.sk-label-container {text-align: center;}#sk-container-id-4 div.sk-container {/* jupyter's `normalize.less` sets `[hidden] { display: none; }` but bootstrap.min.css set `[hidden] { display: none !important; }` so we also need the `!important` here to be able to override the default hidden behavior on the sphinx rendered scikit-learn.org. See: https://github.com/scikit-learn/scikit-learn/issues/21755 */display: inline-block !important;position: relative;}#sk-container-id-4 div.sk-text-repr-fallback {display: none;}</style><div id=\"sk-container-id-4\" class=\"sk-top-container\"><div class=\"sk-text-repr-fallback\"><pre>SVC()</pre><b>In a Jupyter environment, please rerun this cell to show the HTML representation or trust the notebook. <br />On GitHub, the HTML representation is unable to render, please try loading this page with nbviewer.org.</b></div><div class=\"sk-container\" hidden><div class=\"sk-item\"><div class=\"sk-estimator sk-toggleable\"><input class=\"sk-toggleable__control sk-hidden--visually\" id=\"sk-estimator-id-4\" type=\"checkbox\" checked><label for=\"sk-estimator-id-4\" class=\"sk-toggleable__label sk-toggleable__label-arrow\">SVC</label><div class=\"sk-toggleable__content\"><pre>SVC()</pre></div></div></div></div></div>"
            ]
          },
          "metadata": {},
          "execution_count": 123
        }
      ]
    },
    {
      "cell_type": "code",
      "source": [
        "# Matriz de confusão\n",
        "def avaliar_modelo(model, model_random_forest):\n",
        "    y_pred = model.predict(X_test)\n",
        "\n",
        "    print(f\"### {model_random_forest} ###\")\n",
        "    print(\"Matriz de Confusão:\")\n",
        "    conf_matrix = (confusion_matrix(y_test, y_pred))\n",
        "    print(conf_matrix)\n",
        "\n",
        "    print(\"Classification Report:\")\n",
        "    print(classification_report(y_test, y_pred))\n",
        "    print(\"\\n\")"
      ],
      "metadata": {
        "id": "sNrkW6wgzf3_"
      },
      "execution_count": null,
      "outputs": []
    },
    {
      "cell_type": "code",
      "source": [
        "# Avaliar todos os modelos\n",
        "avaliar_modelo(model_logistic, \"Regressão Logística\")\n",
        "avaliar_modelo(model_decision_tree, \"Árvores de Decisão\")\n",
        "avaliar_modelo(model_random_forest, \"Random Forest\")\n",
        "avaliar_modelo(model_svm, \"Support Vector Machines (SVM)\")"
      ],
      "metadata": {
        "colab": {
          "base_uri": "https://localhost:8080/"
        },
        "id": "xK3p-vIYzkHg",
        "outputId": "f97c3923-b03e-4865-9781-54df2c4d2e2b"
      },
      "execution_count": null,
      "outputs": [
        {
          "output_type": "stream",
          "name": "stdout",
          "text": [
            "### Regressão Logística ###\n",
            "Matriz de Confusão:\n",
            "[[230   0   0 ...   0   0   0]\n",
            " [  1   0   0 ...   0   0   0]\n",
            " [  2   0   0 ...   0   0   0]\n",
            " ...\n",
            " [  0   0   0 ...   0   0   0]\n",
            " [  0   0   0 ...   0   0   0]\n",
            " [  0   0   0 ...   0   0   0]]\n",
            "Classification Report:\n",
            "              precision    recall  f1-score   support\n",
            "\n",
            "           0       0.59      1.00      0.74       230\n",
            "           5       0.00      0.00      0.00         1\n",
            "           6       0.00      0.00      0.00         2\n",
            "           7       0.00      0.00      0.00         8\n",
            "           8       0.00      0.00      0.00         8\n",
            "          10       0.00      0.00      0.00         1\n",
            "          11       0.00      0.00      0.00        32\n",
            "          12       0.00      0.00      0.00         2\n",
            "          13       0.00      0.00      0.00         7\n",
            "          14       0.00      0.00      0.00         7\n",
            "          15       0.00      0.00      0.00         7\n",
            "          16       0.00      0.00      0.00         8\n",
            "          17       0.00      0.00      0.00       104\n",
            "          18       0.00      0.00      0.00         4\n",
            "          19       0.00      0.00      0.00        16\n",
            "          20       0.00      0.00      0.00        24\n",
            "          21       0.00      0.00      0.00         6\n",
            "          22       0.00      0.00      0.00        49\n",
            "          23       0.00      0.00      0.00        14\n",
            "          24       0.00      0.00      0.00         9\n",
            "          25       0.00      0.00      0.00        30\n",
            "          26       0.00      0.00      0.00        12\n",
            "          27       0.00      0.00      0.00        31\n",
            "          28       0.00      0.00      0.00        31\n",
            "          29       0.00      0.00      0.00        19\n",
            "          30       0.00      0.00      0.00        25\n",
            "          31       0.00      0.00      0.00        13\n",
            "          32       0.00      0.00      0.00         9\n",
            "          33       0.19      1.00      0.33       349\n",
            "          34       0.00      0.00      0.00        81\n",
            "          35       0.00      0.00      0.00        33\n",
            "          36       0.00      0.00      0.00        46\n",
            "          37       0.00      0.00      0.00        31\n",
            "          38       0.00      0.00      0.00        41\n",
            "          39       0.00      0.00      0.00        41\n",
            "          40       0.00      0.00      0.00        59\n",
            "          41       0.00      0.00      0.00        57\n",
            "          42       0.00      0.00      0.00        65\n",
            "          43       0.00      0.00      0.00        56\n",
            "          44       0.00      0.00      0.00        57\n",
            "          45       0.00      0.00      0.00        66\n",
            "          46       0.00      0.00      0.00        38\n",
            "          47       0.00      0.00      0.00        38\n",
            "          48       0.00      0.00      0.00        30\n",
            "          49       0.00      0.00      0.00        23\n",
            "          50       0.00      0.00      0.00       135\n",
            "          51       0.00      0.00      0.00        19\n",
            "          52       0.00      0.00      0.00        19\n",
            "          53       0.00      0.00      0.00        18\n",
            "          54       0.00      0.00      0.00        22\n",
            "          55       0.00      0.00      0.00        15\n",
            "          56       0.00      0.00      0.00        55\n",
            "          57       0.00      0.00      0.00        18\n",
            "          58       0.00      0.00      0.00        30\n",
            "          59       0.00      0.00      0.00         6\n",
            "          60       0.00      0.00      0.00        18\n",
            "          61       0.00      0.00      0.00        13\n",
            "          62       0.00      0.00      0.00         6\n",
            "          63       0.00      0.00      0.00         1\n",
            "          64       0.00      0.00      0.00         1\n",
            "          65       0.00      0.00      0.00         1\n",
            "          66       0.00      0.00      0.00         9\n",
            "          67       0.59      1.00      0.74       104\n",
            "          70       0.00      0.00      0.00         1\n",
            "          71       0.00      0.00      0.00         2\n",
            "          73       0.00      0.00      0.00         2\n",
            "          74       0.00      0.00      0.00         1\n",
            "          75       0.00      0.00      0.00         8\n",
            "          76       0.00      0.00      0.00         3\n",
            "          78       0.00      0.00      0.00        23\n",
            "          80       0.00      0.00      0.00         5\n",
            "          81       0.00      0.00      0.00         1\n",
            "          83       0.00      0.00      0.00         8\n",
            "          87       0.00      0.00      0.00         1\n",
            "\n",
            "    accuracy                           0.29      2365\n",
            "   macro avg       0.02      0.04      0.02      2365\n",
            "weighted avg       0.11      0.29      0.15      2365\n",
            "\n",
            "\n",
            "\n",
            "### Árvores de Decisão ###\n",
            "Matriz de Confusão:\n",
            "[[228   0   0 ...   0   0   0]\n",
            " [  0   0   0 ...   0   0   0]\n",
            " [  0   0   2 ...   0   0   0]\n",
            " ...\n",
            " [  0   0   0 ...   1   0   0]\n",
            " [  0   0   0 ...   0   8   0]\n",
            " [  0   0   0 ...   0   0   1]]\n",
            "Classification Report:\n",
            "              precision    recall  f1-score   support\n",
            "\n",
            "           0       1.00      0.99      1.00       230\n",
            "           5       0.00      0.00      0.00         1\n",
            "           6       1.00      1.00      1.00         2\n",
            "           7       0.80      1.00      0.89         8\n",
            "           8       1.00      1.00      1.00         8\n",
            "          10       0.00      0.00      0.00         1\n",
            "          11       0.97      0.97      0.97        32\n",
            "          12       0.50      0.50      0.50         2\n",
            "          13       0.86      0.86      0.86         7\n",
            "          14       1.00      0.71      0.83         7\n",
            "          15       1.00      0.57      0.73         7\n",
            "          16       0.80      1.00      0.89         8\n",
            "          17       0.96      1.00      0.98       104\n",
            "          18       1.00      0.25      0.40         4\n",
            "          19       0.82      0.88      0.85        16\n",
            "          20       0.83      0.83      0.83        24\n",
            "          21       0.60      0.50      0.55         6\n",
            "          22       0.94      0.92      0.93        49\n",
            "          23       0.71      0.86      0.77        14\n",
            "          24       0.67      0.67      0.67         9\n",
            "          25       0.90      0.90      0.90        30\n",
            "          26       0.80      0.67      0.73        12\n",
            "          27       0.94      0.94      0.94        31\n",
            "          28       0.90      0.90      0.90        31\n",
            "          29       0.77      0.89      0.83        19\n",
            "          30       0.88      0.92      0.90        25\n",
            "          31       0.73      0.85      0.79        13\n",
            "          32       1.00      0.56      0.71         9\n",
            "          33       0.99      1.00      0.99       349\n",
            "          34       0.97      0.93      0.95        81\n",
            "          35       0.94      0.91      0.92        33\n",
            "          36       0.86      0.80      0.83        46\n",
            "          37       0.86      1.00      0.93        31\n",
            "          38       0.95      0.95      0.95        41\n",
            "          39       0.97      0.93      0.95        41\n",
            "          40       0.92      0.98      0.95        59\n",
            "          41       0.98      0.91      0.95        57\n",
            "          42       0.98      1.00      0.99        65\n",
            "          43       1.00      0.98      0.99        56\n",
            "          44       0.92      0.98      0.95        57\n",
            "          45       0.98      0.92      0.95        66\n",
            "          46       0.97      0.97      0.97        38\n",
            "          47       0.95      1.00      0.97        38\n",
            "          48       0.82      0.93      0.87        30\n",
            "          49       0.91      0.87      0.89        23\n",
            "          50       0.98      0.97      0.97       135\n",
            "          51       0.94      0.79      0.86        19\n",
            "          52       0.90      0.95      0.92        19\n",
            "          53       0.94      0.94      0.94        18\n",
            "          54       0.87      0.91      0.89        22\n",
            "          55       1.00      0.87      0.93        15\n",
            "          56       0.98      1.00      0.99        55\n",
            "          57       1.00      0.94      0.97        18\n",
            "          58       1.00      0.93      0.97        30\n",
            "          59       0.43      0.50      0.46         6\n",
            "          60       0.85      0.94      0.89        18\n",
            "          61       1.00      0.92      0.96        13\n",
            "          62       1.00      0.83      0.91         6\n",
            "          63       0.00      0.00      0.00         1\n",
            "          64       1.00      1.00      1.00         1\n",
            "          65       0.00      0.00      0.00         1\n",
            "          66       0.90      1.00      0.95         9\n",
            "          67       1.00      1.00      1.00       104\n",
            "          70       1.00      1.00      1.00         1\n",
            "          71       1.00      1.00      1.00         2\n",
            "          73       1.00      1.00      1.00         2\n",
            "          74       1.00      1.00      1.00         1\n",
            "          75       1.00      1.00      1.00         8\n",
            "          76       1.00      1.00      1.00         3\n",
            "          78       1.00      1.00      1.00        23\n",
            "          80       1.00      1.00      1.00         5\n",
            "          81       1.00      1.00      1.00         1\n",
            "          83       1.00      1.00      1.00         8\n",
            "          87       1.00      1.00      1.00         1\n",
            "\n",
            "    accuracy                           0.95      2365\n",
            "   macro avg       0.87      0.85      0.85      2365\n",
            "weighted avg       0.95      0.95      0.95      2365\n",
            "\n",
            "\n",
            "\n"
          ]
        },
        {
          "output_type": "stream",
          "name": "stderr",
          "text": [
            "/usr/local/lib/python3.10/dist-packages/sklearn/metrics/_classification.py:1344: UndefinedMetricWarning:\n",
            "\n",
            "Precision and F-score are ill-defined and being set to 0.0 in labels with no predicted samples. Use `zero_division` parameter to control this behavior.\n",
            "\n",
            "/usr/local/lib/python3.10/dist-packages/sklearn/metrics/_classification.py:1344: UndefinedMetricWarning:\n",
            "\n",
            "Precision and F-score are ill-defined and being set to 0.0 in labels with no predicted samples. Use `zero_division` parameter to control this behavior.\n",
            "\n",
            "/usr/local/lib/python3.10/dist-packages/sklearn/metrics/_classification.py:1344: UndefinedMetricWarning:\n",
            "\n",
            "Precision and F-score are ill-defined and being set to 0.0 in labels with no predicted samples. Use `zero_division` parameter to control this behavior.\n",
            "\n",
            "/usr/local/lib/python3.10/dist-packages/sklearn/metrics/_classification.py:1344: UndefinedMetricWarning:\n",
            "\n",
            "Precision and F-score are ill-defined and being set to 0.0 in labels with no predicted samples. Use `zero_division` parameter to control this behavior.\n",
            "\n",
            "/usr/local/lib/python3.10/dist-packages/sklearn/metrics/_classification.py:1344: UndefinedMetricWarning:\n",
            "\n",
            "Precision and F-score are ill-defined and being set to 0.0 in labels with no predicted samples. Use `zero_division` parameter to control this behavior.\n",
            "\n",
            "/usr/local/lib/python3.10/dist-packages/sklearn/metrics/_classification.py:1344: UndefinedMetricWarning:\n",
            "\n",
            "Precision and F-score are ill-defined and being set to 0.0 in labels with no predicted samples. Use `zero_division` parameter to control this behavior.\n",
            "\n"
          ]
        },
        {
          "output_type": "stream",
          "name": "stdout",
          "text": [
            "### Random Forest ###\n",
            "Matriz de Confusão:\n",
            "[[228   1   0 ...   0   0   0]\n",
            " [  0   0   0 ...   0   0   0]\n",
            " [  0   0   2 ...   0   0   0]\n",
            " ...\n",
            " [  0   0   0 ...   1   0   0]\n",
            " [  0   0   0 ...   0   8   0]\n",
            " [  0   0   0 ...   0   0   1]]\n",
            "Classification Report:\n",
            "              precision    recall  f1-score   support\n",
            "\n",
            "           0       1.00      0.99      1.00       230\n",
            "           5       0.00      0.00      0.00         1\n",
            "           6       1.00      1.00      1.00         2\n",
            "           7       0.73      1.00      0.84         8\n",
            "           8       1.00      1.00      1.00         8\n",
            "          10       0.00      0.00      0.00         1\n",
            "          11       0.97      0.97      0.97        32\n",
            "          12       1.00      0.50      0.67         2\n",
            "          13       0.83      0.71      0.77         7\n",
            "          14       1.00      0.71      0.83         7\n",
            "          15       0.80      0.57      0.67         7\n",
            "          16       0.67      1.00      0.80         8\n",
            "          17       0.99      1.00      1.00       104\n",
            "          18       0.50      0.25      0.33         4\n",
            "          19       0.81      0.81      0.81        16\n",
            "          20       0.91      0.83      0.87        24\n",
            "          21       0.50      0.50      0.50         6\n",
            "          22       0.90      0.92      0.91        49\n",
            "          23       0.67      0.86      0.75        14\n",
            "          24       0.67      0.67      0.67         9\n",
            "          25       0.90      0.90      0.90        30\n",
            "          26       0.89      0.67      0.76        12\n",
            "          27       0.94      0.94      0.94        31\n",
            "          28       0.90      0.90      0.90        31\n",
            "          29       0.81      0.89      0.85        19\n",
            "          30       0.88      0.92      0.90        25\n",
            "          31       0.92      0.85      0.88        13\n",
            "          32       0.83      0.56      0.67         9\n",
            "          33       0.98      1.00      0.99       349\n",
            "          34       0.97      0.93      0.95        81\n",
            "          35       0.94      0.91      0.92        33\n",
            "          36       0.92      0.78      0.85        46\n",
            "          37       0.79      1.00      0.89        31\n",
            "          38       1.00      0.95      0.97        41\n",
            "          39       0.95      0.93      0.94        41\n",
            "          40       0.92      0.98      0.95        59\n",
            "          41       0.98      0.91      0.95        57\n",
            "          42       0.94      1.00      0.97        65\n",
            "          43       1.00      0.95      0.97        56\n",
            "          44       0.93      0.98      0.96        57\n",
            "          45       0.98      0.92      0.95        66\n",
            "          46       0.90      0.97      0.94        38\n",
            "          47       1.00      1.00      1.00        38\n",
            "          48       0.97      0.93      0.95        30\n",
            "          49       0.79      0.83      0.81        23\n",
            "          50       0.98      0.97      0.97       135\n",
            "          51       0.88      0.79      0.83        19\n",
            "          52       0.78      0.95      0.86        19\n",
            "          53       0.89      0.94      0.92        18\n",
            "          54       1.00      0.91      0.95        22\n",
            "          55       1.00      0.87      0.93        15\n",
            "          56       0.95      1.00      0.97        55\n",
            "          57       0.94      0.94      0.94        18\n",
            "          58       1.00      0.93      0.97        30\n",
            "          59       0.50      0.50      0.50         6\n",
            "          60       0.85      0.94      0.89        18\n",
            "          61       1.00      0.92      0.96        13\n",
            "          62       1.00      0.83      0.91         6\n",
            "          63       0.00      0.00      0.00         1\n",
            "          64       1.00      1.00      1.00         1\n",
            "          65       0.00      0.00      0.00         1\n",
            "          66       0.90      1.00      0.95         9\n",
            "          67       1.00      1.00      1.00       104\n",
            "          70       1.00      1.00      1.00         1\n",
            "          71       1.00      1.00      1.00         2\n",
            "          73       1.00      1.00      1.00         2\n",
            "          74       1.00      1.00      1.00         1\n",
            "          75       1.00      1.00      1.00         8\n",
            "          76       1.00      1.00      1.00         3\n",
            "          78       1.00      1.00      1.00        23\n",
            "          80       1.00      1.00      1.00         5\n",
            "          81       1.00      1.00      1.00         1\n",
            "          83       1.00      1.00      1.00         8\n",
            "          87       1.00      1.00      1.00         1\n",
            "\n",
            "    accuracy                           0.95      2365\n",
            "   macro avg       0.86      0.84      0.85      2365\n",
            "weighted avg       0.95      0.95      0.95      2365\n",
            "\n",
            "\n",
            "\n"
          ]
        },
        {
          "output_type": "stream",
          "name": "stderr",
          "text": [
            "/usr/local/lib/python3.10/dist-packages/sklearn/metrics/_classification.py:1344: UndefinedMetricWarning:\n",
            "\n",
            "Precision and F-score are ill-defined and being set to 0.0 in labels with no predicted samples. Use `zero_division` parameter to control this behavior.\n",
            "\n",
            "/usr/local/lib/python3.10/dist-packages/sklearn/metrics/_classification.py:1344: UndefinedMetricWarning:\n",
            "\n",
            "Precision and F-score are ill-defined and being set to 0.0 in labels with no predicted samples. Use `zero_division` parameter to control this behavior.\n",
            "\n",
            "/usr/local/lib/python3.10/dist-packages/sklearn/metrics/_classification.py:1344: UndefinedMetricWarning:\n",
            "\n",
            "Precision and F-score are ill-defined and being set to 0.0 in labels with no predicted samples. Use `zero_division` parameter to control this behavior.\n",
            "\n"
          ]
        },
        {
          "output_type": "stream",
          "name": "stdout",
          "text": [
            "### Support Vector Machines (SVM) ###\n",
            "Matriz de Confusão:\n",
            "[[230   0   0 ...   0   0   0]\n",
            " [  1   0   0 ...   0   0   0]\n",
            " [  0   0   0 ...   0   0   0]\n",
            " ...\n",
            " [  0   0   0 ...   0   0   0]\n",
            " [  0   0   0 ...   0   0   0]\n",
            " [  0   0   0 ...   0   0   0]]\n",
            "Classification Report:\n",
            "              precision    recall  f1-score   support\n",
            "\n",
            "           0       1.00      1.00      1.00       230\n",
            "           5       0.00      0.00      0.00         1\n",
            "           6       0.00      0.00      0.00         2\n",
            "           7       0.00      0.00      0.00         8\n",
            "           8       0.00      0.00      0.00         8\n",
            "          10       0.00      0.00      0.00         1\n",
            "          11       0.52      0.94      0.67        32\n",
            "          12       0.00      0.00      0.00         2\n",
            "          13       0.00      0.00      0.00         7\n",
            "          14       0.00      0.00      0.00         7\n",
            "          15       0.00      0.00      0.00         7\n",
            "          16       0.50      0.38      0.43         8\n",
            "          17       0.66      0.98      0.79       104\n",
            "          18       0.00      0.00      0.00         4\n",
            "          19       0.00      0.00      0.00        16\n",
            "          20       0.00      0.00      0.00        24\n",
            "          21       0.00      0.00      0.00         6\n",
            "          22       0.49      0.86      0.62        49\n",
            "          23       0.00      0.00      0.00        14\n",
            "          24       0.00      0.00      0.00         9\n",
            "          25       0.25      0.33      0.29        30\n",
            "          26       0.00      0.00      0.00        12\n",
            "          27       0.25      0.26      0.25        31\n",
            "          28       0.31      0.71      0.43        31\n",
            "          29       0.00      0.00      0.00        19\n",
            "          30       0.00      0.00      0.00        25\n",
            "          31       0.00      0.00      0.00        13\n",
            "          32       0.00      0.00      0.00         9\n",
            "          33       0.82      0.92      0.87       349\n",
            "          34       0.39      0.69      0.50        81\n",
            "          35       0.00      0.00      0.00        33\n",
            "          36       0.00      0.00      0.00        46\n",
            "          37       0.00      0.00      0.00        31\n",
            "          38       0.15      0.10      0.12        41\n",
            "          39       0.00      0.00      0.00        41\n",
            "          40       0.19      0.68      0.30        59\n",
            "          41       0.20      0.23      0.21        57\n",
            "          42       0.00      0.00      0.00        65\n",
            "          43       0.00      0.00      0.00        56\n",
            "          44       0.47      0.47      0.47        57\n",
            "          45       0.36      0.97      0.52        66\n",
            "          46       0.00      0.00      0.00        38\n",
            "          47       0.00      0.00      0.00        38\n",
            "          48       0.00      0.00      0.00        30\n",
            "          49       0.00      0.00      0.00        23\n",
            "          50       0.56      1.00      0.72       135\n",
            "          51       0.00      0.00      0.00        19\n",
            "          52       0.00      0.00      0.00        19\n",
            "          53       0.00      0.00      0.00        18\n",
            "          54       0.00      0.00      0.00        22\n",
            "          55       0.00      0.00      0.00        15\n",
            "          56       0.29      1.00      0.45        55\n",
            "          57       0.00      0.00      0.00        18\n",
            "          58       0.00      0.00      0.00        30\n",
            "          59       0.00      0.00      0.00         6\n",
            "          60       0.00      0.00      0.00        18\n",
            "          61       0.00      0.00      0.00        13\n",
            "          62       0.00      0.00      0.00         6\n",
            "          63       0.00      0.00      0.00         1\n",
            "          64       0.00      0.00      0.00         1\n",
            "          65       0.00      0.00      0.00         1\n",
            "          66       0.36      1.00      0.53         9\n",
            "          67       0.99      0.91      0.95       104\n",
            "          70       0.00      0.00      0.00         1\n",
            "          71       0.00      0.00      0.00         2\n",
            "          73       0.00      0.00      0.00         2\n",
            "          74       0.00      0.00      0.00         1\n",
            "          75       0.00      0.00      0.00         8\n",
            "          76       0.00      0.00      0.00         3\n",
            "          78       0.45      1.00      0.62        23\n",
            "          80       0.00      0.00      0.00         5\n",
            "          81       0.00      0.00      0.00         1\n",
            "          83       0.00      0.00      0.00         8\n",
            "          87       0.00      0.00      0.00         1\n",
            "\n",
            "    accuracy                           0.55      2365\n",
            "   macro avg       0.12      0.19      0.15      2365\n",
            "weighted avg       0.41      0.55      0.45      2365\n",
            "\n",
            "\n",
            "\n"
          ]
        },
        {
          "output_type": "stream",
          "name": "stderr",
          "text": [
            "/usr/local/lib/python3.10/dist-packages/sklearn/metrics/_classification.py:1344: UndefinedMetricWarning:\n",
            "\n",
            "Precision and F-score are ill-defined and being set to 0.0 in labels with no predicted samples. Use `zero_division` parameter to control this behavior.\n",
            "\n",
            "/usr/local/lib/python3.10/dist-packages/sklearn/metrics/_classification.py:1344: UndefinedMetricWarning:\n",
            "\n",
            "Precision and F-score are ill-defined and being set to 0.0 in labels with no predicted samples. Use `zero_division` parameter to control this behavior.\n",
            "\n",
            "/usr/local/lib/python3.10/dist-packages/sklearn/metrics/_classification.py:1344: UndefinedMetricWarning:\n",
            "\n",
            "Precision and F-score are ill-defined and being set to 0.0 in labels with no predicted samples. Use `zero_division` parameter to control this behavior.\n",
            "\n"
          ]
        }
      ]
    },
    {
      "cell_type": "code",
      "source": [
        "justificativa = \"O modelo Random Forest foi escolhido como o modelo final devido à sua precisão e capacidade de lidar com complexidade dos dados. Recomendações para trabalhos futuros incluem a otimização de hiperparâmetros, a coleta de mais dados e a exploração de características adicionais para melhorar o desempenho do modelo.\""
      ],
      "metadata": {
        "id": "Ag-uDcC7U470"
      },
      "execution_count": null,
      "outputs": []
    }
  ]
}